{
  "nbformat": 4,
  "nbformat_minor": 0,
  "metadata": {
    "colab": {
      "name": "Untitled4.ipynb",
      "provenance": [],
      "authorship_tag": "ABX9TyM3Y/HufJgjIaL8tEKGZZxi",
      "include_colab_link": true
    },
    "kernelspec": {
      "name": "python3",
      "display_name": "Python 3"
    },
    "language_info": {
      "name": "python"
    }
  },
  "cells": [
    {
      "cell_type": "markdown",
      "metadata": {
        "id": "view-in-github",
        "colab_type": "text"
      },
      "source": [
        "<a href=\"https://colab.research.google.com/github/hakanbicerrr/MachineLearning/blob/main/Huawei_inheritance.ipynb\" target=\"_parent\"><img src=\"https://colab.research.google.com/assets/colab-badge.svg\" alt=\"Open In Colab\"/></a>"
      ]
    },
    {
      "cell_type": "code",
      "metadata": {
        "id": "eFegsBb8vKby"
      },
      "source": [
        "class Dog():\n",
        "  def __init__(self, name, age):\n",
        "    self.name = name\n",
        "    self.age = age\n",
        "  \n",
        "  def sit(self):\n",
        "    print(self.name.title() + \" is now sitting\")"
      ],
      "execution_count": 14,
      "outputs": []
    },
    {
      "cell_type": "code",
      "metadata": {
        "colab": {
          "base_uri": "https://localhost:8080/"
        },
        "id": "SFWbdZd1vqHr",
        "outputId": "1dfac0fc-9d74-437d-f2b7-9dab2b417d73"
      },
      "source": [
        "my_dog = Dog(\"lucky\", 3)\n",
        "print(my_dog)\n",
        "print(my_dog.age)\n",
        "print(my_dog.name)\n",
        "my_dog.sit()"
      ],
      "execution_count": 16,
      "outputs": [
        {
          "output_type": "stream",
          "text": [
            "<__main__.Dog object at 0x7f7e31a93150>\n",
            "3\n",
            "lucky\n",
            "Lucky is now sitting\n"
          ],
          "name": "stdout"
        }
      ]
    },
    {
      "cell_type": "code",
      "metadata": {
        "id": "0g3wKlgWxlFJ"
      },
      "source": [
        "class Parent:\n",
        "  parentAttr = 100\n",
        "  def __init__(self):\n",
        "    print(\"instantiating parent\")\n",
        "  def parentMethod(self):\n",
        "    print(\"parent method\")\n",
        "  def setAttr(self, attr):\n",
        "    Parent.parentAttr = attr\n",
        "  def getAttr(self):\n",
        "    print(\"parent attribute:\", Parent.parentAttr)\n",
        "class Child(Parent):\n",
        "  def __init__(self):\n",
        "    print(\"instantiating child\")\n",
        "  def childMethod(self):\n",
        "    print(\"child method\")\n",
        "  def getAttr(self):\n",
        "    # a = super().parentAttr\n",
        "    # print(a)\n",
        "    super().getAttr()\n",
        "    print(\"child says hello\")"
      ],
      "execution_count": 25,
      "outputs": []
    },
    {
      "cell_type": "code",
      "metadata": {
        "colab": {
          "base_uri": "https://localhost:8080/"
        },
        "id": "m8mt7JDhykJN",
        "outputId": "72b0e995-77e0-456f-8a8f-383f4638d82b"
      },
      "source": [
        "c = Child()\n",
        "c.childMethod()\n",
        "c.parentMethod()\n",
        "c.setAttr(3)\n",
        "c.getAttr()"
      ],
      "execution_count": 26,
      "outputs": [
        {
          "output_type": "stream",
          "text": [
            "instantiating child\n",
            "child method\n",
            "parent method\n",
            "parent attribute: 3\n",
            "child says hello\n"
          ],
          "name": "stdout"
        }
      ]
    },
    {
      "cell_type": "code",
      "metadata": {
        "colab": {
          "base_uri": "https://localhost:8080/"
        },
        "id": "0NJPrlYUzKzO",
        "outputId": "6d2175d0-c3a4-4b57-d2a4-223010078fdb"
      },
      "source": [
        "c.childMethod()"
      ],
      "execution_count": 22,
      "outputs": [
        {
          "output_type": "stream",
          "text": [
            "child method\n"
          ],
          "name": "stdout"
        }
      ]
    }
  ]
}